{
 "cells": [
  {
   "cell_type": "markdown",
   "metadata": {},
   "source": [
    "## Create custom Views (grid channels)\n",
    "\n",
    "To make custom channels, you have to work with the View class. This class helps you make channels that you design yourself.\n",
    "\n",
    "The basic idea is to create a boolean matrix with dimensions: `n_channels` (how many channels you want) and `n_atoms_complex` (how many atoms are in your protein-ligand complex). In this grid, each row is a different channel (like one for carbon atoms, one for hydrogen-bond donors, and so on). Each column represents an atom in your complex. A spot in the grid tells you if that atom is in the channel or not.\n",
    "\n",
    "Also, note that the atoms follow the order they appear in the PDB file. The atoms from the protein are listed first, followed by those from the ligand.\n",
    "\n",
    "The View class has five main methods you need to fill in:\n",
    "\n",
    "* `get_num_channels()`: Tells how many channels there are.\n",
    "* `get_channels_names()`: Gives the names of your channels.\n",
    "* `get_molecular_complex_channels(molecular_complex: MolecularComplex)`: Sets up channels for the whole molecular complex.\n",
    "* `get_protein_channels(molecular_complex: MolecularComplex)`: Sets up channels just for the protein.\n",
    "* `get_ligand_channels(molecular_complex: MolecularComplex)`: Sets up channels just for the ligand.\n",
    "\n",
    "These last three methods make it easier to handle the channels for each part of your complex separately."
   ]
  },
  {
   "cell_type": "code",
   "execution_count": 1,
   "metadata": {},
   "outputs": [],
   "source": [
    "import sys\n",
    "sys.path.append(\"..\")"
   ]
  },
  {
   "cell_type": "code",
   "execution_count": 2,
   "metadata": {},
   "outputs": [],
   "source": [
    "import torch\n",
    "import numpy as np\n",
    "\n",
    "from docktgrid.view import View\n",
    "from docktgrid.molecule import MolecularComplex\n",
    "from docktgrid.molparser import MolecularParser"
   ]
  },
  {
   "cell_type": "markdown",
   "metadata": {},
   "source": [
    "Here's how we can use our setup for making custom channels. As an example, consider a grid construction\n",
    "where each channel selectively includes protein atoms based on their distance from the \n",
    "ligand's center. More specifically, for channel $i$ (with $i$ ranging from 0 to $n$), \n",
    "it encompasses protein atoms at a distance $d_a$ satisfying the condition \n",
    "$x_i \\leq d_a < y_i$. Here, $x_i$ and $y_i$ serve as the defining parameters for \n",
    "distance boundaries.\n",
    "\n",
    "We define these parameters as:\n",
    "\n",
    "$$\n",
    "(x_0, y_0) = (0, 5) \\\\\n",
    "(x_1, y_1) = (5, 10) \\\\\n",
    "(x_2, y_2) = (10, 15) \\\\\n",
    "(x_3, y_3) = (15, 20)\n",
    "$$\n",
    "\n",
    "This would give us something like the figure below, where colors represent the different channels with increasing distance boundaries (gray, light pink, dark pink and orange):\n",
    "\n",
    "> ![](figures/custom_view.png)\n",
    "\n",
    "\n",
    "For the ligand let's just use a single channel that includes every atom. \n",
    "So the total number of channels for this representation is 4 + 1 = 5."
   ]
  },
  {
   "cell_type": "code",
   "execution_count": 3,
   "metadata": {},
   "outputs": [],
   "source": [
    "class CustomView(View):\n",
    "    \"\"\"Interface for defining voxel channels representations.\n",
    "\n",
    "    See View class docs for a more complete documentation.\n",
    "    \"\"\"\n",
    "\n",
    "    def get_num_channels(self):\n",
    "        \"\"\"Return number of channels defined for the view.\"\"\"\n",
    "        n_channels_complex = 0  # we can skip these since we are not using them\n",
    "        n_channels_protein = 4\n",
    "        n_channels_ligand = 1\n",
    "        return sum((n_channels_complex, n_channels_protein, n_channels_ligand))\n",
    "\n",
    "    def get_channels_names(self):\n",
    "        \"\"\"Return names of channels defined for the view.\"\"\"\n",
    "        pass  # this is only useful for visualizations, exporting etc.\n",
    "\n",
    "    def get_molecular_complex_channels(self, molecular_complex: MolecularComplex):\n",
    "        \"\"\"Set of channels considering all atoms of the protein-ligand complex together.\"\"\"\n",
    "        return None  # return an empty tensor since we are not using this\n",
    "\n",
    "    def get_ligand_channels(self, molecular_complex: MolecularComplex):\n",
    "        \"\"\"Set of channels considering ligand atoms only.\"\"\"\n",
    "        ligand = torch.zeros((1, molecular_complex.n_atoms), dtype=torch.bool)\n",
    "\n",
    "        # only ligand atoms are true, since this function does not consider\n",
    "        # protein atoms (which are set to zero)\n",
    "\n",
    "        # important: n_atoms = protein_atoms followed by ligand_atoms (in this order)\n",
    "        ligand[0][-molecular_complex.n_atoms_ligand :] = True\n",
    "        return ligand\n",
    "\n",
    "    def get_protein_channels(self, molecular_complex: MolecularComplex):\n",
    "        \"\"\"Set of channels considering protein atoms only.\"\"\"\n",
    "        # this is a biopandas object of the protein file, you can see the docs here:\n",
    "        # https://biopandas.github.io/biopandas/ and do whatever you want with it\n",
    "        protein = molecular_complex.protein_data.molecule_object\n",
    "        ligand_center = molecular_complex.ligand_center\n",
    "        n_atoms_protein = molecular_complex.n_atoms_protein\n",
    "\n",
    "        distances = [(0, 5), (5, 10), (10, 15), (15, 20)]\n",
    "        channels = torch.zeros((len(distances), molecular_complex.n_atoms), dtype=torch.bool)\n",
    "        d = protein.distance(ligand_center)\n",
    "        \n",
    "        for i, (x, y) in enumerate(distances):\n",
    "            dst = ((d >= x) & (d < y)).to_numpy()\n",
    "            channels[i, :n_atoms_protein] = torch.tensor(dst, dtype=torch.bool)\n",
    "        \n",
    "        return channels"
   ]
  },
  {
   "cell_type": "code",
   "execution_count": 4,
   "metadata": {},
   "outputs": [],
   "source": [
    "protein_path = \"../tests/data/{}_protein.pdb\"\n",
    "ligand_path = \"../tests/data/{}_ligand.pdb\"\n",
    "id_ = \"6rnt\"\n",
    "\n",
    "mol = MolecularComplex(protein_path.format(id_), ligand_path.format(id_), MolecularParser())"
   ]
  },
  {
   "cell_type": "code",
   "execution_count": 6,
   "metadata": {},
   "outputs": [
    {
     "data": {
      "text/plain": [
       "torch.Size([5, 988])"
      ]
     },
     "execution_count": 6,
     "metadata": {},
     "output_type": "execute_result"
    }
   ],
   "source": [
    "custom_view = CustomView()\n",
    "custom_view(mol).shape"
   ]
  },
  {
   "cell_type": "code",
   "execution_count": null,
   "metadata": {},
   "outputs": [],
   "source": []
  },
  {
   "cell_type": "code",
   "execution_count": null,
   "metadata": {},
   "outputs": [],
   "source": []
  }
 ],
 "metadata": {
  "kernelspec": {
   "display_name": "env",
   "language": "python",
   "name": "python3"
  },
  "language_info": {
   "codemirror_mode": {
    "name": "ipython",
    "version": 3
   },
   "file_extension": ".py",
   "mimetype": "text/x-python",
   "name": "python",
   "nbconvert_exporter": "python",
   "pygments_lexer": "ipython3",
   "version": "3.11.6"
  }
 },
 "nbformat": 4,
 "nbformat_minor": 2
}
