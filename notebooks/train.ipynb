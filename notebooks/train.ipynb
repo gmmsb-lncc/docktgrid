{
 "cells": [
  {
   "cell_type": "markdown",
   "metadata": {},
   "source": [
    "## Fit a CNN model to a sample of the data"
   ]
  },
  {
   "cell_type": "code",
   "execution_count": 1,
   "metadata": {},
   "outputs": [],
   "source": [
    "import sys\n",
    "sys.path.append('..')"
   ]
  },
  {
   "cell_type": "code",
   "execution_count": 2,
   "metadata": {},
   "outputs": [],
   "source": [
    "import os\n",
    "\n",
    "import torch\n",
    "from torch.utils.data import DataLoader, Dataset\n",
    "import pandas as pd\n",
    "import random\n",
    "import numpy as np\n",
    "from tqdm import tqdm"
   ]
  },
  {
   "cell_type": "code",
   "execution_count": 3,
   "metadata": {},
   "outputs": [],
   "source": [
    "seed = 42\n",
    "random.seed(seed)\n",
    "torch.manual_seed(seed)\n",
    "np.random.seed(seed)"
   ]
  },
  {
   "cell_type": "code",
   "execution_count": 4,
   "metadata": {},
   "outputs": [
    {
     "data": {
      "text/html": [
       "<div>\n",
       "<style scoped>\n",
       "    .dataframe tbody tr th:only-of-type {\n",
       "        vertical-align: middle;\n",
       "    }\n",
       "\n",
       "    .dataframe tbody tr th {\n",
       "        vertical-align: top;\n",
       "    }\n",
       "\n",
       "    .dataframe thead th {\n",
       "        text-align: right;\n",
       "    }\n",
       "</style>\n",
       "<table border=\"1\" class=\"dataframe\">\n",
       "  <thead>\n",
       "    <tr style=\"text-align: right;\">\n",
       "      <th></th>\n",
       "      <th>id</th>\n",
       "      <th>resolution</th>\n",
       "      <th>release_year</th>\n",
       "      <th>pki</th>\n",
       "      <th>ki</th>\n",
       "      <th>delta_g</th>\n",
       "      <th>lig_name</th>\n",
       "      <th>coreset_v2013</th>\n",
       "      <th>coreset_v2016</th>\n",
       "      <th>lppdbbind_split</th>\n",
       "    </tr>\n",
       "  </thead>\n",
       "  <tbody>\n",
       "    <tr>\n",
       "      <th>2210</th>\n",
       "      <td>4d4d</td>\n",
       "      <td>1.40</td>\n",
       "      <td>2015</td>\n",
       "      <td>5.96</td>\n",
       "      <td>1.100</td>\n",
       "      <td>-8.124923</td>\n",
       "      <td>MAN-IFM</td>\n",
       "      <td>False</td>\n",
       "      <td>False</td>\n",
       "      <td>train</td>\n",
       "    </tr>\n",
       "    <tr>\n",
       "      <th>1448</th>\n",
       "      <td>6qr1</td>\n",
       "      <td>1.67</td>\n",
       "      <td>2019</td>\n",
       "      <td>5.07</td>\n",
       "      <td>8.500</td>\n",
       "      <td>-6.914045</td>\n",
       "      <td>JFT</td>\n",
       "      <td>False</td>\n",
       "      <td>False</td>\n",
       "      <td>train</td>\n",
       "    </tr>\n",
       "    <tr>\n",
       "      <th>223</th>\n",
       "      <td>5ehv</td>\n",
       "      <td>1.21</td>\n",
       "      <td>2016</td>\n",
       "      <td>3.08</td>\n",
       "      <td>826.000</td>\n",
       "      <td>-4.203885</td>\n",
       "      <td>5ON</td>\n",
       "      <td>False</td>\n",
       "      <td>False</td>\n",
       "      <td>train</td>\n",
       "    </tr>\n",
       "    <tr>\n",
       "      <th>2931</th>\n",
       "      <td>6dar</td>\n",
       "      <td>1.88</td>\n",
       "      <td>2018</td>\n",
       "      <td>6.66</td>\n",
       "      <td>0.219</td>\n",
       "      <td>-9.080708</td>\n",
       "      <td>G2J</td>\n",
       "      <td>False</td>\n",
       "      <td>False</td>\n",
       "      <td>train</td>\n",
       "    </tr>\n",
       "    <tr>\n",
       "      <th>72</th>\n",
       "      <td>4y4j</td>\n",
       "      <td>1.03</td>\n",
       "      <td>2016</td>\n",
       "      <td>2.47</td>\n",
       "      <td>3400.000</td>\n",
       "      <td>-3.365978</td>\n",
       "      <td>LNR</td>\n",
       "      <td>False</td>\n",
       "      <td>False</td>\n",
       "      <td>train</td>\n",
       "    </tr>\n",
       "  </tbody>\n",
       "</table>\n",
       "</div>"
      ],
      "text/plain": [
       "        id  resolution  release_year   pki        ki   delta_g lig_name  \\\n",
       "2210  4d4d        1.40          2015  5.96     1.100 -8.124923  MAN-IFM   \n",
       "1448  6qr1        1.67          2019  5.07     8.500 -6.914045      JFT   \n",
       "223   5ehv        1.21          2016  3.08   826.000 -4.203885      5ON   \n",
       "2931  6dar        1.88          2018  6.66     0.219 -9.080708      G2J   \n",
       "72    4y4j        1.03          2016  2.47  3400.000 -3.365978      LNR   \n",
       "\n",
       "      coreset_v2013  coreset_v2016 lppdbbind_split  \n",
       "2210          False          False           train  \n",
       "1448          False          False           train  \n",
       "223           False          False           train  \n",
       "2931          False          False           train  \n",
       "72            False          False           train  "
      ]
     },
     "execution_count": 4,
     "metadata": {},
     "output_type": "execute_result"
    }
   ],
   "source": [
    "# sample 1000 protein-ligand complexes from the dataset\n",
    "\n",
    "path_to_dataset = \"../data/pdbbind2020-refined-prepared/\"  # suppose you have downloaded the dataset\n",
    "dataframe = pd.read_csv(os.path.join(path_to_dataset, \"index.csv\"))\n",
    "\n",
    "samples = dataframe[dataframe.lppdbbind_split == \"train\"].sample(1000)\n",
    "samples.head()"
   ]
  },
  {
   "cell_type": "code",
   "execution_count": 5,
   "metadata": {},
   "outputs": [
    {
     "data": {
      "text/plain": [
       "(1000, 21, 24, 24, 24)"
      ]
     },
     "execution_count": 5,
     "metadata": {},
     "output_type": "execute_result"
    }
   ],
   "source": [
    "# load voxels \n",
    "path = os.path.join(path_to_dataset, \"{0}/voxels/{0}.npy\")\n",
    "data = np.array([np.load(path.format(id_)) for id_ in samples.id.values])\n",
    "\n",
    "data.shape"
   ]
  },
  {
   "cell_type": "code",
   "execution_count": 13,
   "metadata": {},
   "outputs": [],
   "source": [
    "# we could also select a subset of channels to use\n",
    "# e.g., channels 9-14 represent protein atoms only (CHONS) and\n",
    "# channels 15-20 represent ligand atoms only (CHONS)\n",
    "\n",
    "\n",
    "# path = os.path.join(path_to_dataset, \"{0}/voxels/{0}.npy\")\n",
    "# data = np.array([np.load(path.format(id_))[np.r_[9:14, 15:20]] for id_ in samples.id.values])\n",
    "\n",
    "# data.shape\n",
    "# (1000, 10, 24, 24, 24)"
   ]
  },
  {
   "cell_type": "code",
   "execution_count": 7,
   "metadata": {},
   "outputs": [],
   "source": [
    "class VoxelDataset(Dataset):\n",
    "    def __init__(self, dataset, labels) -> None:\n",
    "        self.dataset = torch.tensor(dataset)\n",
    "        self.labels = torch.tensor(labels)\n",
    "    \n",
    "    def __len__(self) -> int:\n",
    "        return len(self.labels)\n",
    "    \n",
    "    def __getitem__(self, idx):\n",
    "        return self.dataset[idx], self.labels[idx]\n",
    "\n",
    "dataset = VoxelDataset(data, samples.delta_g.to_numpy(dtype=np.float32))\n",
    "dataloader = DataLoader(dataset, batch_size=50, shuffle=True)"
   ]
  },
  {
   "cell_type": "code",
   "execution_count": 8,
   "metadata": {},
   "outputs": [],
   "source": [
    "# define the model and other training hyperparameters\n",
    "\n",
    "class CNN(torch.nn.Module):\n",
    "    def __init__(self, *args, **kwargs) -> None:\n",
    "        super().__init__(*args, **kwargs)\n",
    "\n",
    "        in_channels = 21\n",
    "\n",
    "        self.conv1 = torch.nn.Conv3d(in_channels, 64, 5, padding=2, stride=2)\n",
    "        self.conv2 = torch.nn.Conv3d(64, 128, 5, padding=2, stride=2)\n",
    "        self.conv3 = torch.nn.Conv3d(128, 256, 5, padding=2, stride=2)\n",
    "        self.flatten = torch.nn.Flatten()\n",
    "        self.linear1 = torch.nn.Linear(256 * 3 * 3 * 3, 512)\n",
    "        self.linear2 = torch.nn.Linear(512, 256)\n",
    "        self.out = torch.nn.Linear(256, 1)\n",
    "    \n",
    "    def forward(self, x):\n",
    "        x = torch.nn.functional.relu(self.conv1(x))\n",
    "        x = torch.nn.functional.relu(self.conv2(x))\n",
    "        x = torch.nn.functional.relu(self.conv3(x))\n",
    "        x = self.flatten(x)\n",
    "        x = torch.nn.functional.relu(self.linear1(x))\n",
    "        x = torch.nn.functional.relu(self.linear2(x))\n",
    "        x = self.out(x)\n",
    "        \n",
    "        return x\n",
    "    \n",
    "model = CNN()\n",
    "loss_fn = torch.nn.MSELoss()\n",
    "optimizer = torch.optim.Adam(model.parameters(), lr=1e-4)"
   ]
  },
  {
   "cell_type": "code",
   "execution_count": 9,
   "metadata": {},
   "outputs": [
    {
     "name": "stderr",
     "output_type": "stream",
     "text": [
      "epoch: 0 loss: 18.215: 100%|██████████| 20/20 [00:01<00:00, 14.61it/s]\n",
      "epoch: 1 loss: 6.880: 100%|██████████| 20/20 [00:00<00:00, 23.28it/s] \n",
      "epoch: 2 loss: 7.108: 100%|██████████| 20/20 [00:00<00:00, 23.29it/s]\n",
      "epoch: 3 loss: 5.736: 100%|██████████| 20/20 [00:00<00:00, 23.30it/s]\n",
      "epoch: 4 loss: 7.403: 100%|██████████| 20/20 [00:00<00:00, 23.06it/s]\n",
      "epoch: 5 loss: 4.633: 100%|██████████| 20/20 [00:00<00:00, 23.09it/s]\n",
      "epoch: 6 loss: 3.838: 100%|██████████| 20/20 [00:00<00:00, 23.00it/s]\n",
      "epoch: 7 loss: 5.219: 100%|██████████| 20/20 [00:00<00:00, 23.11it/s]\n",
      "epoch: 8 loss: 6.488: 100%|██████████| 20/20 [00:00<00:00, 22.57it/s]\n",
      "epoch: 9 loss: 7.208: 100%|██████████| 20/20 [00:00<00:00, 22.95it/s]\n",
      "epoch: 10 loss: 6.030: 100%|██████████| 20/20 [00:00<00:00, 23.00it/s]\n",
      "epoch: 11 loss: 4.795: 100%|██████████| 20/20 [00:00<00:00, 22.77it/s]\n",
      "epoch: 12 loss: 4.173: 100%|██████████| 20/20 [00:00<00:00, 22.92it/s]\n",
      "epoch: 13 loss: 5.075: 100%|██████████| 20/20 [00:00<00:00, 22.73it/s]\n",
      "epoch: 14 loss: 6.492: 100%|██████████| 20/20 [00:00<00:00, 22.68it/s]\n",
      "epoch: 15 loss: 6.266: 100%|██████████| 20/20 [00:00<00:00, 22.69it/s]\n",
      "epoch: 16 loss: 4.267: 100%|██████████| 20/20 [00:00<00:00, 22.84it/s]\n",
      "epoch: 17 loss: 5.285: 100%|██████████| 20/20 [00:00<00:00, 22.56it/s]\n",
      "epoch: 18 loss: 5.667: 100%|██████████| 20/20 [00:00<00:00, 23.04it/s]\n",
      "epoch: 19 loss: 3.933: 100%|██████████| 20/20 [00:00<00:00, 22.63it/s]\n",
      "epoch: 20 loss: 3.575: 100%|██████████| 20/20 [00:00<00:00, 22.88it/s]\n",
      "epoch: 21 loss: 5.196: 100%|██████████| 20/20 [00:00<00:00, 22.73it/s]\n",
      "epoch: 22 loss: 4.452: 100%|██████████| 20/20 [00:00<00:00, 22.74it/s]\n",
      "epoch: 23 loss: 3.419: 100%|██████████| 20/20 [00:00<00:00, 22.68it/s]\n",
      "epoch: 24 loss: 4.689: 100%|██████████| 20/20 [00:00<00:00, 22.93it/s]\n",
      "epoch: 25 loss: 6.169: 100%|██████████| 20/20 [00:00<00:00, 22.72it/s]\n",
      "epoch: 26 loss: 3.583: 100%|██████████| 20/20 [00:00<00:00, 23.02it/s]\n",
      "epoch: 27 loss: 3.851: 100%|██████████| 20/20 [00:00<00:00, 22.94it/s]\n",
      "epoch: 28 loss: 3.114: 100%|██████████| 20/20 [00:00<00:00, 22.58it/s]\n",
      "epoch: 29 loss: 4.592: 100%|██████████| 20/20 [00:00<00:00, 22.49it/s]\n",
      "epoch: 30 loss: 4.835: 100%|██████████| 20/20 [00:00<00:00, 22.86it/s]\n",
      "epoch: 31 loss: 2.750: 100%|██████████| 20/20 [00:00<00:00, 22.87it/s]\n",
      "epoch: 32 loss: 1.992: 100%|██████████| 20/20 [00:00<00:00, 22.91it/s]\n",
      "epoch: 33 loss: 3.396: 100%|██████████| 20/20 [00:00<00:00, 22.68it/s]\n",
      "epoch: 34 loss: 3.027: 100%|██████████| 20/20 [00:00<00:00, 22.45it/s]\n",
      "epoch: 35 loss: 2.081: 100%|██████████| 20/20 [00:00<00:00, 22.90it/s]\n",
      "epoch: 36 loss: 1.248: 100%|██████████| 20/20 [00:00<00:00, 22.40it/s]\n",
      "epoch: 37 loss: 1.219: 100%|██████████| 20/20 [00:00<00:00, 22.53it/s]\n",
      "epoch: 38 loss: 2.160: 100%|██████████| 20/20 [00:00<00:00, 22.74it/s]\n",
      "epoch: 39 loss: 2.201: 100%|██████████| 20/20 [00:00<00:00, 22.55it/s]\n",
      "epoch: 40 loss: 0.666: 100%|██████████| 20/20 [00:00<00:00, 22.44it/s]\n",
      "epoch: 41 loss: 0.422: 100%|██████████| 20/20 [00:00<00:00, 22.49it/s]\n",
      "epoch: 42 loss: 0.453: 100%|██████████| 20/20 [00:00<00:00, 22.24it/s]\n",
      "epoch: 43 loss: 0.380: 100%|██████████| 20/20 [00:00<00:00, 22.58it/s]\n",
      "epoch: 44 loss: 0.525: 100%|██████████| 20/20 [00:00<00:00, 22.96it/s]\n",
      "epoch: 45 loss: 0.425: 100%|██████████| 20/20 [00:00<00:00, 22.46it/s]\n",
      "epoch: 46 loss: 0.246: 100%|██████████| 20/20 [00:00<00:00, 22.61it/s]\n",
      "epoch: 47 loss: 0.369: 100%|██████████| 20/20 [00:00<00:00, 22.57it/s]\n",
      "epoch: 48 loss: 0.111: 100%|██████████| 20/20 [00:00<00:00, 22.46it/s]\n",
      "epoch: 49 loss: 0.173: 100%|██████████| 20/20 [00:00<00:00, 22.88it/s]\n"
     ]
    }
   ],
   "source": [
    "# train the model\n",
    "\n",
    "def train(dataloader, model, loss_fn, optimizer, max_epochs=50):\n",
    "    model.train()\n",
    "    model.to(\"cuda\")\n",
    "\n",
    "    logs = {\"steps\": [], \"loss\": []}\n",
    "    step_count = 0\n",
    "    for epoch in range(max_epochs):\n",
    "        pbar = tqdm(enumerate(dataloader), total=len(dataloader))\n",
    "        for _, batch in pbar:\n",
    "            x, y = batch                    \n",
    "\n",
    "            # forward pass\n",
    "            preds = model(x.cuda())\n",
    "            loss = loss_fn(preds.squeeze(), y.to(\"cuda\"))\n",
    "\n",
    "            # backward pass\n",
    "            optimizer.zero_grad()\n",
    "            loss.backward()\n",
    "            optimizer.step()\n",
    "\n",
    "            # log\n",
    "            logs[\"steps\"].append(step_count := step_count + 1)\n",
    "            logs[\"loss\"].append(loss.item())\n",
    "            pbar.set_description(f\"epoch: {epoch} loss: {loss.item():>3.3f}\")\n",
    "            \n",
    "    return logs\n",
    "\n",
    "logs = train(dataloader, model, loss_fn, optimizer)"
   ]
  },
  {
   "cell_type": "code",
   "execution_count": 10,
   "metadata": {},
   "outputs": [
    {
     "data": {
      "image/png": "[encoded data removed]",
      "text/plain": [
       "<Figure size 350x262.5 with 1 Axes>"
      ]
     },
     "metadata": {},
     "output_type": "display_data"
    }
   ],
   "source": [
    "import matplotlib.pyplot as plt\n",
    "import scienceplots\n",
    "\n",
    "with plt.style.context([\"science\"]):\n",
    "    plt.figure()\n",
    "    plt.plot(logs[\"steps\"], logs[\"loss\"])\n",
    "    plt.xlabel('steps')\n",
    "    plt.ylabel('training loss (mse)')\n",
    "    # plt.savefig(\"train.svg\", dpi=300)\n",
    "    plt.show()"
   ]
  },
  {
   "cell_type": "code",
   "execution_count": 11,
   "metadata": {},
   "outputs": [],
   "source": [
    "# save logs to a dataframe\n",
    "\n",
    "logs_df = pd.DataFrame(logs)\n",
    "# logs_df.to_csv(\"train.csv\", index=False)"
   ]
  },
  {
   "cell_type": "code",
   "execution_count": null,
   "metadata": {},
   "outputs": [],
   "source": []
  }
 ],
 "metadata": {
  "kernelspec": {
   "display_name": "env",
   "language": "python",
   "name": "python3"
  },
  "language_info": {
   "codemirror_mode": {
    "name": "ipython",
    "version": 3
   },
   "file_extension": ".py",
   "mimetype": "text/x-python",
   "name": "python",
   "nbconvert_exporter": "python",
   "pygments_lexer": "ipython3",
   "version": "3.11.6"
  }
 },
 "nbformat": 4,
 "nbformat_minor": 2
}
